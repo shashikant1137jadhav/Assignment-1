{
 "cells": [
  {
   "cell_type": "markdown",
   "id": "ff9697c5",
   "metadata": {},
   "source": [
    "#  Que.1  In the below elements which of them are values or an expression? eg:- values can be integer or string and expressions will be mathematical operators.\n",
    "\n",
    "* \n",
    "'hello'\n",
    "-87.\n",
    "- \n",
    "/ \n",
    "+\t\n",
    "6 \n",
    "'''"
   ]
  },
  {
   "cell_type": "code",
   "execution_count": null,
   "id": "e21fc2c3",
   "metadata": {},
   "outputs": [],
   "source": [
    "Mathematical Operator are >> * , -, / ,+\n",
    "integer are               >> -87.8, 6\n",
    "strings are               >> 'hello',\n"
   ]
  },
  {
   "cell_type": "markdown",
   "id": "bd9dfdb8",
   "metadata": {},
   "source": [
    "#  Que2. What is the difference between string and variable?\n"
   ]
  },
  {
   "cell_type": "code",
   "execution_count": null,
   "id": "13fecfe7",
   "metadata": {},
   "outputs": [],
   "source": [
    "String :- String is nothing but the whatever we written in a quotes ('') this is known as a string\n",
    "Variable :- A Python variable is a symbolic name that is a reference or pointer to an object"
   ]
  },
  {
   "cell_type": "markdown",
   "id": "a3cda480",
   "metadata": {},
   "source": [
    "# Que3. Describe three different data types."
   ]
  },
  {
   "cell_type": "code",
   "execution_count": null,
   "id": "2b1548d6",
   "metadata": {},
   "outputs": [],
   "source": [
    "The Python Datatypes are given below:\n",
    "    1)Numaric:\n",
    "            i)   int\n",
    "            ii)  float\n",
    "            iii) complex\n",
    "    2)Dictionary:\n",
    "    3)Boolean:\n",
    "    4)Set:\n",
    "    5)Sequence Type:\n",
    "            i)   String\n",
    "            ii)  List\n",
    "            iii) Tuple\n",
    "\n",
    "1) Numaric :-   Here we can stores the numaric values \n",
    "                int :- we can store the real numbers value such as 5,10,-15\n",
    "                float :- Here we stores the fractions numbers such as 0.5,0.15,-.015\n",
    "                complex :- Here we stores complex numbers(which having real and imaginary part) such as 2+5j\n",
    "            \n",
    "2)Dictionary :- Dictionary is an unordered set of a key-value pair of items. \n",
    "                The empty dictionary can be defined as:\n",
    "                d={}  or d =dict()\n",
    "                \n",
    "3)Boolean    :- It's takes only True and False values \n",
    "    \n",
    "4)Set        :- It's unordered datatypes which contains only unique values \n",
    "                The empty set can be defined as\n",
    "                s=set()\n",
    "            \n",
    "5)Sequence Type:\n",
    "    i)String:   Anything we are written in the single or double quotes is defined as a string\n",
    "                Eg. a='shashi'\n",
    "    ii)List :   The items stored in the list are separated with a comma (,) and enclosed within square brackets [].\n",
    "                We can stored different numeric datatypes also \n",
    "                Eg. a=[10,20]\n",
    "    iii)Tuple : The items of the tuple are separated with a comma (,) and enclosed in parentheses ().\n",
    "                We can stored different numeric datatypes also \n",
    "                Once we created tuple then can not modified it\n",
    "                Eg. a=(10,20)"
   ]
  },
  {
   "cell_type": "markdown",
   "id": "89c96f56",
   "metadata": {},
   "source": [
    "# 4. What is an expression made up of? What do all expressions do?"
   ]
  },
  {
   "cell_type": "code",
   "execution_count": 15,
   "id": "3d1dd5b4",
   "metadata": {},
   "outputs": [],
   "source": [
    "Expression:- An expression is a combination of operators, constants and variables. An expression may consist of one or more operands, and zero or more operators to produce a value.\n",
    "\n",
    "Types of Expression:\n",
    "i) Constant expressions: Constant Expressions consists of only constant values.\n",
    "ii)Integral expressions: Integral Expressions are those which produce integer results after implementing all the automatic and explicit type conversions.\n",
    "iii)Floating expressions: Float Expressions are which produce floating point results after implementing all the automatic and explicit type conversions.\n",
    "iv)Relational expressions: Relational Expressions yield results of type bool which takes a value true or false\n",
    "v)Logical expressions: Logical Expressions combine two or more relational expressions and produces bool type results.\n",
    "vi)Pointer expressions: Pointer Expressions produce address values.\n",
    "vii)Bitwise expressions: Bitwise Expressions are used to manipulate data at bit level. They are basically used for testing or shifting bits.\n"
   ]
  },
  {
   "cell_type": "markdown",
   "id": "ffc67909",
   "metadata": {},
   "source": [
    "## Que5. This assignment statements, like spam = 10. What is the difference between an expression and a statement?"
   ]
  },
  {
   "cell_type": "code",
   "execution_count": null,
   "id": "d0dd03cd",
   "metadata": {},
   "outputs": [],
   "source": [
    "\n",
    "An expression evaluates to a single value. A statement does not."
   ]
  },
  {
   "cell_type": "markdown",
   "id": "af9250f1",
   "metadata": {},
   "source": [
    "## Que6. After running the following code, what does the variable bacon contain?\n",
    "## bacon = 22\n",
    "## bacon + 1\n",
    "\n",
    "\n"
   ]
  },
  {
   "cell_type": "code",
   "execution_count": null,
   "id": "4e684f97",
   "metadata": {},
   "outputs": [],
   "source": [
    "23"
   ]
  },
  {
   "cell_type": "markdown",
   "id": "09d68079",
   "metadata": {},
   "source": [
    "# Que.7. What should the values of the following two terms be?\n",
    "## 'spam' + 'spamspam'\n",
    "## 'spam' * 3\n"
   ]
  },
  {
   "cell_type": "code",
   "execution_count": null,
   "id": "b8d98413",
   "metadata": {},
   "outputs": [],
   "source": [
    "'spamspamspam'\n",
    "'spamspamspam'"
   ]
  },
  {
   "cell_type": "markdown",
   "id": "0847278d",
   "metadata": {},
   "source": [
    "## Que8. Why is eggs a valid variable name while 100 is invalid?"
   ]
  },
  {
   "cell_type": "code",
   "execution_count": null,
   "id": "92d43675",
   "metadata": {},
   "outputs": [],
   "source": [
    "Because eggs starts with alphabets and 100 start with numeric value\n",
    "There is a property to defined a varible that we can't assign variable name which start from numeric value"
   ]
  },
  {
   "cell_type": "markdown",
   "id": "a6f3f178",
   "metadata": {},
   "source": [
    "## Que9. What three functions can be used to get the integer, floating-point number, or string version of a value?"
   ]
  },
  {
   "cell_type": "code",
   "execution_count": null,
   "id": "4436952c",
   "metadata": {},
   "outputs": [],
   "source": [
    "for integer we use a function        >>int()\n",
    "for floating-point we use a function >>float()\n",
    "for string we use a function         >>str()"
   ]
  },
  {
   "cell_type": "markdown",
   "id": "fa90df56",
   "metadata": {},
   "source": [
    "### Que.10. Why does this expression cause an error? How can you fix it?\n",
    "### 'I have eaten ' + 99 + ' burritos.'\n"
   ]
  },
  {
   "cell_type": "code",
   "execution_count": null,
   "id": "74121c47",
   "metadata": {},
   "outputs": [],
   "source": [
    "Because the string and int can not be concatenate\n",
    "The concatanation happend with same data types only \n",
    "if still we want to concatenate this we want to try such that \n",
    ">> 'I have eaten ' + str(99) + ' burritos.'\n",
    "above we have done the 99 is an int and we change it's datatype into string"
   ]
  }
 ],
 "metadata": {
  "kernelspec": {
   "display_name": "Python 3 (ipykernel)",
   "language": "python",
   "name": "python3"
  },
  "language_info": {
   "codemirror_mode": {
    "name": "ipython",
    "version": 3
   },
   "file_extension": ".py",
   "mimetype": "text/x-python",
   "name": "python",
   "nbconvert_exporter": "python",
   "pygments_lexer": "ipython3",
   "version": "3.9.12"
  }
 },
 "nbformat": 4,
 "nbformat_minor": 5
}
